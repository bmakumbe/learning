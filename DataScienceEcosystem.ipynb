{
 "cells": [
  {
   "cell_type": "markdown",
   "id": "426a9131-915f-44de-8080-313e030c4f5e",
   "metadata": {},
   "source": [
    "# Data Science Tools and Ecosystem"
   ]
  },
  {
   "cell_type": "markdown",
   "id": "56a50951-1596-4766-a650-9d293cd43189",
   "metadata": {},
   "source": [
    "**Objectives**\n",
    "\n",
    "- Populat Data Science Languages\n",
    "- Commonly used Libraries in Data Science\n",
    "- List of Data Science Tools\n",
    "- Evaluating Arithmetic Expressions\n"
   ]
  },
  {
   "cell_type": "markdown",
   "id": "0e59d5de-fb66-4d65-a8cb-fdc137dfc7b0",
   "metadata": {},
   "source": [
    "The focus of this notebook is to summarize data science tools and ecosystems.\n"
   ]
  },
  {
   "cell_type": "markdown",
   "id": "fb76fd54-beab-445e-9a20-0aa8215b8991",
   "metadata": {},
   "source": [
    "Data Science is a melting pot of coding languages. Here are some of them:\n",
    "\n",
    "1. Python\n",
    "2. R\n",
    "3. SQL\n",
    "4. Scala\n",
    "5. Julia"
   ]
  },
  {
   "cell_type": "markdown",
   "id": "0fd869b1-1e62-4b45-98e4-33fd20d4fe37",
   "metadata": {},
   "source": [
    "Some of the labraries commonly used by Data Scientists include:\n",
    "\n",
    "1. NumPy\n",
    "2. Pandas\n",
    "3. scikit-learn\n",
    "4. dplyr\n",
    "5. ggplot2\n",
    "6. plotly\n",
    "7. seaborn\n",
    "8. caret\n",
    "9. keras"
   ]
  },
  {
   "cell_type": "markdown",
   "id": "7a577405-c4ad-4aa0-949f-285c4de30bd8",
   "metadata": {},
   "source": [
    "|Data Science Tools|\n",
    "|------------------|\n",
    "|Jupyter Notebook |\n",
    "|VS Code|\n",
    "|Eclipse|\n"
   ]
  },
  {
   "cell_type": "markdown",
   "id": "452b15e2-56ea-4f52-9186-8d0fece8d64d",
   "metadata": {},
   "source": [
    "### Below are a few examples of evaluating arithmetic expressions in Python\n"
   ]
  },
  {
   "cell_type": "code",
   "execution_count": 4,
   "id": "98e8a9c8-e8b8-47e0-87c4-95f855d71b39",
   "metadata": {},
   "outputs": [
    {
     "data": {
      "text/plain": [
       "17"
      ]
     },
     "execution_count": 4,
     "metadata": {},
     "output_type": "execute_result"
    }
   ],
   "source": [
    "# A simple arithmetic expression to multiply then add integers\n",
    "\n",
    "(3*4)+5\n"
   ]
  },
  {
   "cell_type": "code",
   "execution_count": 5,
   "id": "ded44671-60ec-4820-b2cf-f6bf0c8001d0",
   "metadata": {},
   "outputs": [
    {
     "data": {
      "text/plain": [
       "3.3333333333333335"
      ]
     },
     "execution_count": 5,
     "metadata": {},
     "output_type": "execute_result"
    }
   ],
   "source": [
    "# This will convert 200 minutes to hours by diving by 60\n",
    "\n",
    "200/60\n"
   ]
  },
  {
   "cell_type": "markdown",
   "id": "864acef7-24e7-48ab-b80b-edc1e171bd4b",
   "metadata": {},
   "source": [
    "## Author\n",
    "Bargley"
   ]
  },
  {
   "cell_type": "code",
   "execution_count": null,
   "id": "ed6513d0-4e3e-487d-84b0-6cf1ad6d7293",
   "metadata": {},
   "outputs": [],
   "source": []
  }
 ],
 "metadata": {
  "kernelspec": {
   "display_name": "Python 3 (ipykernel)",
   "language": "python",
   "name": "python3"
  },
  "language_info": {
   "codemirror_mode": {
    "name": "ipython",
    "version": 3
   },
   "file_extension": ".py",
   "mimetype": "text/x-python",
   "name": "python",
   "nbconvert_exporter": "python",
   "pygments_lexer": "ipython3",
   "version": "3.12.7"
  }
 },
 "nbformat": 4,
 "nbformat_minor": 5
}
